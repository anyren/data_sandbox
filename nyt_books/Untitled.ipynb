{
 "cells": [
  {
   "cell_type": "code",
   "execution_count": 17,
   "id": "0fb561b6",
   "metadata": {},
   "outputs": [],
   "source": [
    "import requests\n",
    "import json\n",
    "from config import api_key"
   ]
  },
  {
   "cell_type": "code",
   "execution_count": 43,
   "id": "3746c7b4",
   "metadata": {},
   "outputs": [],
   "source": [
    "base_url = 'https://api.nytimes.com/svc/books/v3'"
   ]
  },
  {
   "cell_type": "code",
   "execution_count": 59,
   "id": "4f18679c",
   "metadata": {},
   "outputs": [],
   "source": [
    "science_url = f\"{base_url}/lists/current/science.json?api-key={api_key}\"\n",
    "science_books = requests.get(science_url).json()"
   ]
  },
  {
   "cell_type": "code",
   "execution_count": 57,
   "id": "32702793",
   "metadata": {},
   "outputs": [
    {
     "name": "stdout",
     "output_type": "stream",
     "text": [
      "This week: 1 (Last week: 1)\n",
      "SAPIENS by Yuval Noah Harari\n",
      "\n",
      "This week: 2 (Last week: 2)\n",
      "THE BODY KEEPS THE SCORE by Bessel van der Kolk\n",
      "\n",
      "This week: 3 (Last week: 4)\n",
      "BEING MORTAL by Atul Gawande\n",
      "\n",
      "This week: 4 (Last week: 6)\n",
      "THINKING, FAST AND SLOW by Daniel Kahneman\n",
      "\n",
      "This week: 5 (Last week: 0)\n",
      "THE MOSQUITO by Timothy C Winegard\n",
      "\n",
      "This week: 6 (Last week: 7)\n",
      "THE IMMORTAL LIFE OF HENRIETTA LACKS by Rebecca Skloot\n",
      "\n",
      "This week: 7 (Last week: 0)\n",
      "DOPESICK by Beth Macy\n",
      "\n",
      "This week: 8 (Last week: 8)\n",
      "WHY WE SLEEP by Matthew Walker\n",
      "\n",
      "This week: 9 (Last week: 0)\n",
      "21 LESSONS FOR THE 21ST CENTURY by Yuval Noah Harari\n",
      "\n",
      "This week: 10 (Last week: 10)\n",
      "QUIET by Susan Cain\n",
      "\n"
     ]
    }
   ],
   "source": [
    "for book in science_books['results']['books']:\n",
    "    print(f\"This week: {book['rank']} (Last week: {book['rank_last_week']})\")\n",
    "    print(f'{book[\"title\"]} by {book[\"author\"]}\\n')"
   ]
  },
  {
   "cell_type": "code",
   "execution_count": 58,
   "id": "bd6e0372",
   "metadata": {},
   "outputs": [],
   "source": [
    "url = f\"{base_url}/lists/names.json?api-key={api_key}\"\n",
    "lists = requests.get(url).json()"
   ]
  },
  {
   "cell_type": "code",
   "execution_count": 55,
   "id": "1719ad5b",
   "metadata": {},
   "outputs": [
    {
     "name": "stdout",
     "output_type": "stream",
     "text": [
      "2011-02-13\n",
      "2011-02-13\n",
      "2008-06-08\n",
      "2008-06-08\n",
      "2008-06-08\n",
      "2008-06-08\n",
      "2008-06-08\n",
      "2011-02-13\n",
      "2011-02-13\n",
      "2008-06-08\n",
      "2008-06-08\n",
      "2013-04-28\n",
      "2009-03-15\n",
      "2009-03-15\n",
      "2009-03-15\n",
      "2011-02-13\n",
      "2011-02-13\n",
      "2008-06-08\n",
      "2012-12-16\n",
      "2015-08-30\n",
      "2015-08-30\n",
      "2015-08-30\n",
      "2008-06-08\n",
      "2008-06-08\n",
      "2008-06-08\n",
      "2012-12-16\n",
      "2015-08-30\n",
      "2015-08-30\n",
      "2015-08-30\n",
      "2014-09-07\n",
      "2018-03-11\n",
      "2018-03-11\n",
      "2013-11-03\n",
      "2014-09-07\n",
      "2014-10-12\n",
      "2014-10-12\n",
      "2014-10-12\n",
      "2014-12-14\n",
      "2014-12-14\n",
      "2014-10-12\n",
      "2013-09-01\n",
      "2014-10-12\n",
      "2019-10-13\n",
      "2011-07-03\n",
      "2014-10-12\n",
      "2014-09-07\n",
      "2014-12-14\n",
      "2014-09-07\n",
      "2019-10-13\n",
      "2019-10-13\n",
      "2011-07-03\n",
      "2014-09-07\n",
      "2011-07-03\n",
      "2014-12-14\n",
      "2014-09-07\n",
      "2013-04-14\n",
      "2014-03-02\n",
      "2014-09-07\n",
      "2019-10-13\n"
     ]
    }
   ],
   "source": [
    "for l in lists['results']:\n",
    "    opd = l['oldest_published_date']\n",
    "    print(opd)"
   ]
  },
  {
   "cell_type": "code",
   "execution_count": null,
   "id": "89a585dd",
   "metadata": {},
   "outputs": [],
   "source": []
  }
 ],
 "metadata": {
  "kernelspec": {
   "display_name": "PythonData38",
   "language": "python",
   "name": "pythondata38"
  },
  "language_info": {
   "codemirror_mode": {
    "name": "ipython",
    "version": 3
   },
   "file_extension": ".py",
   "mimetype": "text/x-python",
   "name": "python",
   "nbconvert_exporter": "python",
   "pygments_lexer": "ipython3",
   "version": "3.9.7"
  }
 },
 "nbformat": 4,
 "nbformat_minor": 5
}
